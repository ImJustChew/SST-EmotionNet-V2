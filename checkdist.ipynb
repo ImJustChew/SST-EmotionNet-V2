{
 "cells": [
  {
   "cell_type": "code",
   "execution_count": null,
   "metadata": {},
   "outputs": [],
   "source": [
    "import scipy.io\n",
    "\n",
    "# Load the .mat file\n",
    "mat_file = scipy.io.loadmat('./Preprocessed_EEG/1_20131027.mat')\n",
    "\n",
    "# Print the keys of the .mat file\n",
    "print(mat_file.keys())"
   ]
  }
 ],
 "metadata": {
  "language_info": {
   "name": "python"
  }
 },
 "nbformat": 4,
 "nbformat_minor": 2
}
